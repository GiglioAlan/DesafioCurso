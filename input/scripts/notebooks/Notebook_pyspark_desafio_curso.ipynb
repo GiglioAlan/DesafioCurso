{
 "cells": [
  {
   "cell_type": "code",
   "execution_count": 1,
   "metadata": {},
   "outputs": [],
   "source": [
    "import argparse\n",
    "from typing import Dict, Tuple, Any\n",
    "import json\n",
    "from pyspark.sql import SparkSession, DataFrame, HiveContext\n",
    "from pyspark.sql.types import StringType, DataType\n",
    "from pyspark.sql.functions import *\n",
    "import importlib\n",
    "import pandas"
   ]
  },
  {
   "cell_type": "code",
   "execution_count": 2,
   "metadata": {},
   "outputs": [],
   "source": [
    "def tratar_campos_vazios(texto):\n",
    "    return texto.isspace() or texto == \"\"\n",
    "\n",
    "tratar_campos_vazios_udf = udf(tratar_campos_vazios, StringType())"
   ]
  },
  {
   "cell_type": "code",
   "execution_count": 3,
   "metadata": {},
   "outputs": [],
   "source": [
    "df_base_clientes = spark.sql(\"select * from desafio_curso.tbl_clientes\")"
   ]
  },
  {
   "cell_type": "code",
   "execution_count": 4,
   "metadata": {},
   "outputs": [],
   "source": [
    "df_base_clientes = df_base_clientes.withColumn(\"lineofbusiness\", when(tratar_campos_vazios_udf('lineofbusiness') == True, \"Não informado\").otherwise(df_base_clientes.lineofbusiness))"
   ]
  },
  {
   "cell_type": "code",
   "execution_count": 5,
   "metadata": {},
   "outputs": [],
   "source": [
    "df_base_regiao = spark.sql(\"select * from desafio_curso.tbl_regiao\")"
   ]
  },
  {
   "cell_type": "code",
   "execution_count": 6,
   "metadata": {},
   "outputs": [],
   "source": [
    "df_base_divisao = spark.sql(\"select * from desafio_curso.tbl_divisao\")"
   ]
  },
  {
   "cell_type": "code",
   "execution_count": 7,
   "metadata": {},
   "outputs": [],
   "source": [
    "df_base_clientes = df_base_clientes.join(df_base_regiao,df_base_clientes.regioncode == df_base_regiao.regioncode, 'inner').drop(df_base_regiao.regioncode) \\\n",
    "                                    .join(df_base_divisao,df_base_clientes.division == df_base_divisao.division, 'inner').drop(df_base_divisao.division) \\\n",
    "                                    #.join(df_base_endereco,df_base_clientes.addressnumber == df_base_endereco.addressnumber, 'left').drop(df_base_endereco.addressnumber)"
   ]
  },
  {
   "cell_type": "code",
   "execution_count": 8,
   "metadata": {},
   "outputs": [],
   "source": [
    "df_base_endereco = spark.sql(\"select * from desafio_curso.tbl_endereco\")"
   ]
  },
  {
   "cell_type": "code",
   "execution_count": 9,
   "metadata": {},
   "outputs": [],
   "source": [
    "df_base_endereco = df_base_endereco.withColumn(\"city\", when(tratar_campos_vazios_udf('city') == True, \"Não informado\").otherwise(df_base_endereco.city))"
   ]
  },
  {
   "cell_type": "code",
   "execution_count": 10,
   "metadata": {},
   "outputs": [],
   "source": [
    "df_base_endereco = df_base_endereco.withColumn(\"customeraddress2\", when(tratar_campos_vazios_udf('customeraddress2') == True, \"Não informado\").otherwise(df_base_endereco.customeraddress2))"
   ]
  },
  {
   "cell_type": "code",
   "execution_count": 11,
   "metadata": {},
   "outputs": [],
   "source": [
    "df_base_endereco = df_base_endereco.withColumn(\"customeraddress3\", when(tratar_campos_vazios_udf('customeraddress3') == True, \"Não informado\").otherwise(df_base_endereco.customeraddress3))"
   ]
  },
  {
   "cell_type": "code",
   "execution_count": 12,
   "metadata": {},
   "outputs": [],
   "source": [
    "df_base_endereco = df_base_endereco.withColumn(\"customeraddress4\", when(tratar_campos_vazios_udf('customeraddress4') == True, \"Não informado\").otherwise(df_base_endereco.customeraddress4))"
   ]
  },
  {
   "cell_type": "code",
   "execution_count": 13,
   "metadata": {},
   "outputs": [],
   "source": [
    "df_base_endereco = df_base_endereco.withColumn(\"state\", when(tratar_campos_vazios_udf('state') == True, \"Não informado\").otherwise(df_base_endereco.state))"
   ]
  },
  {
   "cell_type": "code",
   "execution_count": 14,
   "metadata": {},
   "outputs": [],
   "source": [
    "df_base_endereco = df_base_endereco.withColumn(\"zipcode\", when(tratar_campos_vazios_udf('zipcode') == True, \"Não informado\").otherwise(df_base_endereco.zipcode))"
   ]
  },
  {
   "cell_type": "code",
   "execution_count": 15,
   "metadata": {},
   "outputs": [],
   "source": [
    "df_base_vendas = spark.sql(\"select * from desafio_curso.tbl_vendas\")"
   ]
  },
  {
   "cell_type": "code",
   "execution_count": 16,
   "metadata": {},
   "outputs": [],
   "source": [
    "df_base_vendas = df_base_vendas.dropna()"
   ]
  },
  {
   "cell_type": "code",
   "execution_count": 17,
   "metadata": {},
   "outputs": [],
   "source": [
    "df_base_vendas = df_base_vendas.withColumn(\"discountamount\", when(tratar_campos_vazios_udf('discountamount') == True, \"0\").otherwise(df_base_vendas.discountamount))"
   ]
  },
  {
   "cell_type": "code",
   "execution_count": 18,
   "metadata": {},
   "outputs": [],
   "source": [
    "df_base_vendas = df_base_vendas.withColumn(\"itemclass\", when(tratar_campos_vazios_udf('itemclass') == True, \"Não informado\").otherwise(df_base_vendas.itemclass))"
   ]
  },
  {
   "cell_type": "code",
   "execution_count": 19,
   "metadata": {},
   "outputs": [],
   "source": [
    "df_base_vendas = df_base_vendas.withColumn(\"itemnumber\", when(tratar_campos_vazios_udf('itemnumber') == True, \"Não informado\").otherwise(df_base_vendas.itemnumber))"
   ]
  },
  {
   "cell_type": "code",
   "execution_count": 20,
   "metadata": {},
   "outputs": [],
   "source": [
    "df_base_vendas = df_base_vendas.withColumn(\"salesprice\", when(tratar_campos_vazios_udf('salesprice') == True, \"0\").otherwise(df_base_vendas.salesprice))"
   ]
  },
  {
   "cell_type": "code",
   "execution_count": 21,
   "metadata": {},
   "outputs": [],
   "source": [
    "df_base_vendas = df_base_vendas.withColumn(\"invoicedate\", to_date(\"invoicedate\", \"dd/MM/yyyy\"))"
   ]
  },
  {
   "cell_type": "code",
   "execution_count": 22,
   "metadata": {},
   "outputs": [],
   "source": [
    "df_base_vendas = (df_base_vendas\n",
    "                  .withColumn('ano', year(df_base_vendas.invoicedate))\n",
    "                  .withColumn('mes', month(df_base_vendas.invoicedate))\n",
    "                  .withColumn('dia', dayofmonth(df_base_vendas.invoicedate))\n",
    "                  .withColumn('trimestre', quarter(df_base_vendas.invoicedate))\n",
    "                 )"
   ]
  },
  {
   "cell_type": "code",
   "execution_count": 23,
   "metadata": {},
   "outputs": [],
   "source": [
    "df_base_endereco = df_base_endereco.withColumn(\"DW_LOCALIDADE\", sha2(concat_ws(\"\", df_base_endereco.city, df_base_endereco.state, df_base_endereco.country), 256))"
   ]
  },
  {
   "cell_type": "code",
   "execution_count": 24,
   "metadata": {},
   "outputs": [],
   "source": [
    "dim_localidade = df_base_endereco.dropDuplicates([\"DW_LOCALIDADE\",\"city\",\"state\",\"country\"])"
   ]
  },
  {
   "cell_type": "code",
   "execution_count": 25,
   "metadata": {},
   "outputs": [],
   "source": [
    "dim_localidade = dim_localidade.select([\"DW_LOCALIDADE\",\"city\",\"state\",\"country\"])"
   ]
  },
  {
   "cell_type": "code",
   "execution_count": 26,
   "metadata": {},
   "outputs": [],
   "source": [
    "df_base_vendas = df_base_vendas.withColumn(\"DW_TEMPO\", sha2(concat_ws(\"\", df_base_vendas.invoicedate, df_base_vendas.dia, df_base_vendas.mes, df_base_vendas.ano, df_base_vendas.trimestre), 256))"
   ]
  },
  {
   "cell_type": "code",
   "execution_count": 27,
   "metadata": {},
   "outputs": [],
   "source": [
    "dim_tempo = df_base_vendas.dropDuplicates([\"DW_TEMPO\", \"invoicedate\", \"dia\", \"mes\", \"ano\", \"trimestre\"])"
   ]
  },
  {
   "cell_type": "code",
   "execution_count": 28,
   "metadata": {},
   "outputs": [],
   "source": [
    "dim_tempo = dim_tempo.select(\"DW_TEMPO\", \"invoicedate\", \"dia\", \"mes\", \"ano\", \"trimestre\")"
   ]
  },
  {
   "cell_type": "code",
   "execution_count": 29,
   "metadata": {},
   "outputs": [],
   "source": [
    "df_base_clientes = df_base_clientes.withColumn(\"DW_CLIENTES\", sha2(concat_ws(\"\",df_base_clientes.customer, df_base_clientes.customerkey), 256))"
   ]
  },
  {
   "cell_type": "code",
   "execution_count": 30,
   "metadata": {},
   "outputs": [],
   "source": [
    "dim_clientes = df_base_clientes.dropDuplicates([\"DW_CLIENTES\", \"customer\", \"customerkey\"])"
   ]
  },
  {
   "cell_type": "code",
   "execution_count": 31,
   "metadata": {},
   "outputs": [],
   "source": [
    "dim_clientes = dim_clientes.select(\"DW_CLIENTES\", \"customer\", \"customerkey\")"
   ]
  }
 ],
 "metadata": {
  "kernelspec": {
   "display_name": "PySpark",
   "language": "python",
   "name": "pyspark"
  },
  "language_info": {
   "codemirror_mode": {
    "name": "ipython",
    "version": 3
   },
   "file_extension": ".py",
   "mimetype": "text/x-python",
   "name": "python",
   "nbconvert_exporter": "python",
   "pygments_lexer": "ipython3",
   "version": "3.6.10"
  }
 },
 "nbformat": 4,
 "nbformat_minor": 2
}
